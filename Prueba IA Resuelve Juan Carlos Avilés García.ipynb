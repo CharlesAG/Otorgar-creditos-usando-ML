{
 "cells": [
  {
   "cell_type": "markdown",
   "metadata": {},
   "source": [
    "# Problema 2\n",
    "\n",
    "A continuación se presenta la solución al problema 2 de la prueba"
   ]
  },
  {
   "cell_type": "markdown",
   "metadata": {},
   "source": [
    "### En el último mes, han llegado muchos más registros de los que puede atender el equipo de crédito. Alguien sugirió crear un modelo para poder decidir a quien prestarle.\n",
    "\n",
    "#### - ¿Crees que sea una buena idea? ¿ Por qué? Si la respuesta fue sí, ¿qué tipo de probema es según los datos que tienes? (Supervisado o No Supervisado)\n",
    "Sí, pues esto puede ayudar a optimizar el trabajo y facilitar la tarea.\n",
    "\n",
    "El problema se trata de un algoritmo supervisado, pues se tiene la respuesta a predecir, en este caso es 'Estatus_prestamo'\n",
    "\n",
    "#### - Haz las transformaciones que necesites a los datos y desarrolla algún modelo.\n",
    "\n",
    "A continuación se hace un análisis exploratorio de los datos, para posteriormente comenzar con las transformaciones y finalmente se proponen 3 modelos\n",
    "\n",
    "#### - ¿Cómo sabes que es un buen modelo?\n",
    "\n",
    "Se utilizaron diferentes métricas de evaluación al final de cada uno de los modelos.\n"
   ]
  },
  {
   "cell_type": "code",
   "execution_count": 1,
   "metadata": {},
   "outputs": [],
   "source": [
    "#librerías que vamos a ocupar para la limpieza de datos \n",
    "import pandas as pd\n",
    "import numpy as np\n",
    "import matplotlib.pyplot as plt "
   ]
  },
  {
   "cell_type": "code",
   "execution_count": 2,
   "metadata": {},
   "outputs": [
    {
     "data": {
      "text/html": [
       "<div>\n",
       "<style scoped>\n",
       "    .dataframe tbody tr th:only-of-type {\n",
       "        vertical-align: middle;\n",
       "    }\n",
       "\n",
       "    .dataframe tbody tr th {\n",
       "        vertical-align: top;\n",
       "    }\n",
       "\n",
       "    .dataframe thead th {\n",
       "        text-align: right;\n",
       "    }\n",
       "</style>\n",
       "<table border=\"1\" class=\"dataframe\">\n",
       "  <thead>\n",
       "    <tr style=\"text-align: right;\">\n",
       "      <th></th>\n",
       "      <th>Unnamed: 0</th>\n",
       "      <th>Fecha_registro</th>\n",
       "      <th>Fecha_contacto</th>\n",
       "      <th>Id</th>\n",
       "      <th>Genero</th>\n",
       "      <th>Casado</th>\n",
       "      <th>Dependientes</th>\n",
       "      <th>Educacion</th>\n",
       "      <th>Trabaja_para_el</th>\n",
       "      <th>Salario</th>\n",
       "      <th>Salario_Pareja</th>\n",
       "      <th>Credito_pedido</th>\n",
       "      <th>Plazo_prestamo</th>\n",
       "      <th>Historial_crediticio</th>\n",
       "      <th>Area_vivienda</th>\n",
       "      <th>Estatus_prestamo</th>\n",
       "      <th>Asesor_asignado</th>\n",
       "    </tr>\n",
       "  </thead>\n",
       "  <tbody>\n",
       "    <tr>\n",
       "      <th>0</th>\n",
       "      <td>0</td>\n",
       "      <td>02/26/2019 11:00 AM</td>\n",
       "      <td>02/27/2019 12:03 PM</td>\n",
       "      <td>LP002519</td>\n",
       "      <td>Hombre</td>\n",
       "      <td>Si</td>\n",
       "      <td>3+</td>\n",
       "      <td>Graduado</td>\n",
       "      <td>No</td>\n",
       "      <td>4691</td>\n",
       "      <td>0.0</td>\n",
       "      <td>100.0</td>\n",
       "      <td>360.0</td>\n",
       "      <td>1.0</td>\n",
       "      <td>Semiurbana</td>\n",
       "      <td>Si</td>\n",
       "      <td>Dudley</td>\n",
       "    </tr>\n",
       "    <tr>\n",
       "      <th>1</th>\n",
       "      <td>1</td>\n",
       "      <td>02/27/2019 02:52 PM</td>\n",
       "      <td>02/26/2019 07:43 AM</td>\n",
       "      <td>LP001280</td>\n",
       "      <td>Hombre</td>\n",
       "      <td>Si</td>\n",
       "      <td>2</td>\n",
       "      <td>No Graduado</td>\n",
       "      <td>No</td>\n",
       "      <td>3333</td>\n",
       "      <td>2000.0</td>\n",
       "      <td>99.0</td>\n",
       "      <td>360.0</td>\n",
       "      <td>NaN</td>\n",
       "      <td>Semiurbana</td>\n",
       "      <td>Si</td>\n",
       "      <td>Pablo</td>\n",
       "    </tr>\n",
       "    <tr>\n",
       "      <th>2</th>\n",
       "      <td>2</td>\n",
       "      <td>02/27/2019 08:18 AM</td>\n",
       "      <td>02/28/2019 02:27 PM</td>\n",
       "      <td>LP001151</td>\n",
       "      <td>Mujer</td>\n",
       "      <td>No</td>\n",
       "      <td>0</td>\n",
       "      <td>Graduado</td>\n",
       "      <td>No</td>\n",
       "      <td>4000</td>\n",
       "      <td>2275.0</td>\n",
       "      <td>144.0</td>\n",
       "      <td>360.0</td>\n",
       "      <td>1.0</td>\n",
       "      <td>Semiurbana</td>\n",
       "      <td>Si</td>\n",
       "      <td>Dudley</td>\n",
       "    </tr>\n",
       "    <tr>\n",
       "      <th>3</th>\n",
       "      <td>3</td>\n",
       "      <td>02/28/2019 10:00 AM</td>\n",
       "      <td>03/01/2019 12:57 PM</td>\n",
       "      <td>LP002036</td>\n",
       "      <td>Hombre</td>\n",
       "      <td>Si</td>\n",
       "      <td>0</td>\n",
       "      <td>Graduado</td>\n",
       "      <td>No</td>\n",
       "      <td>2058</td>\n",
       "      <td>2134.0</td>\n",
       "      <td>88.0</td>\n",
       "      <td>360.0</td>\n",
       "      <td>NaN</td>\n",
       "      <td>Urabana</td>\n",
       "      <td>Si</td>\n",
       "      <td>Ana</td>\n",
       "    </tr>\n",
       "    <tr>\n",
       "      <th>4</th>\n",
       "      <td>4</td>\n",
       "      <td>02/26/2019 07:40 AM</td>\n",
       "      <td>02/27/2019 04:35 PM</td>\n",
       "      <td>LP002894</td>\n",
       "      <td>Mujer</td>\n",
       "      <td>Si</td>\n",
       "      <td>0</td>\n",
       "      <td>Graduado</td>\n",
       "      <td>No</td>\n",
       "      <td>3166</td>\n",
       "      <td>0.0</td>\n",
       "      <td>36.0</td>\n",
       "      <td>360.0</td>\n",
       "      <td>1.0</td>\n",
       "      <td>Semiurbana</td>\n",
       "      <td>Si</td>\n",
       "      <td>Regina</td>\n",
       "    </tr>\n",
       "  </tbody>\n",
       "</table>\n",
       "</div>"
      ],
      "text/plain": [
       "   Unnamed: 0       Fecha_registro       Fecha_contacto        Id  Genero  \\\n",
       "0           0  02/26/2019 11:00 AM  02/27/2019 12:03 PM  LP002519  Hombre   \n",
       "1           1  02/27/2019 02:52 PM  02/26/2019 07:43 AM  LP001280  Hombre   \n",
       "2           2  02/27/2019 08:18 AM  02/28/2019 02:27 PM  LP001151   Mujer   \n",
       "3           3  02/28/2019 10:00 AM  03/01/2019 12:57 PM  LP002036  Hombre   \n",
       "4           4  02/26/2019 07:40 AM  02/27/2019 04:35 PM  LP002894   Mujer   \n",
       "\n",
       "  Casado Dependientes    Educacion Trabaja_para_el  Salario  Salario_Pareja  \\\n",
       "0     Si           3+     Graduado              No     4691             0.0   \n",
       "1     Si            2  No Graduado              No     3333          2000.0   \n",
       "2     No            0     Graduado              No     4000          2275.0   \n",
       "3     Si            0     Graduado              No     2058          2134.0   \n",
       "4     Si            0     Graduado              No     3166             0.0   \n",
       "\n",
       "   Credito_pedido  Plazo_prestamo  Historial_crediticio Area_vivienda  \\\n",
       "0           100.0           360.0                   1.0    Semiurbana   \n",
       "1            99.0           360.0                   NaN    Semiurbana   \n",
       "2           144.0           360.0                   1.0    Semiurbana   \n",
       "3            88.0           360.0                   NaN       Urabana   \n",
       "4            36.0           360.0                   1.0    Semiurbana   \n",
       "\n",
       "  Estatus_prestamo Asesor_asignado  \n",
       "0               Si          Dudley  \n",
       "1               Si           Pablo  \n",
       "2               Si          Dudley  \n",
       "3               Si             Ana  \n",
       "4               Si          Regina  "
      ]
     },
     "execution_count": 2,
     "metadata": {},
     "output_type": "execute_result"
    }
   ],
   "source": [
    "#cargamos el dataset y lo desplegamos\n",
    "data=pd.read_csv('https://raw.githubusercontent.com/resuelve/resuelve-ia-prueba/master/datos_prestamo.csv')\n",
    "data.head()"
   ]
  },
  {
   "cell_type": "markdown",
   "metadata": {},
   "source": [
    "## Comenzamos con el análisis exploratorio"
   ]
  },
  {
   "cell_type": "code",
   "execution_count": 3,
   "metadata": {},
   "outputs": [
    {
     "data": {
      "text/html": [
       "<div>\n",
       "<style scoped>\n",
       "    .dataframe tbody tr th:only-of-type {\n",
       "        vertical-align: middle;\n",
       "    }\n",
       "\n",
       "    .dataframe tbody tr th {\n",
       "        vertical-align: top;\n",
       "    }\n",
       "\n",
       "    .dataframe thead th {\n",
       "        text-align: right;\n",
       "    }\n",
       "</style>\n",
       "<table border=\"1\" class=\"dataframe\">\n",
       "  <thead>\n",
       "    <tr style=\"text-align: right;\">\n",
       "      <th></th>\n",
       "      <th>Unnamed: 0</th>\n",
       "      <th>Salario</th>\n",
       "      <th>Salario_Pareja</th>\n",
       "      <th>Credito_pedido</th>\n",
       "      <th>Plazo_prestamo</th>\n",
       "      <th>Historial_crediticio</th>\n",
       "    </tr>\n",
       "  </thead>\n",
       "  <tbody>\n",
       "    <tr>\n",
       "      <th>count</th>\n",
       "      <td>557.000000</td>\n",
       "      <td>557.000000</td>\n",
       "      <td>557.000000</td>\n",
       "      <td>536.000000</td>\n",
       "      <td>544.000000</td>\n",
       "      <td>510.000000</td>\n",
       "    </tr>\n",
       "    <tr>\n",
       "      <th>mean</th>\n",
       "      <td>278.000000</td>\n",
       "      <td>5478.807899</td>\n",
       "      <td>1685.644596</td>\n",
       "      <td>146.882463</td>\n",
       "      <td>342.220588</td>\n",
       "      <td>0.886275</td>\n",
       "    </tr>\n",
       "    <tr>\n",
       "      <th>std</th>\n",
       "      <td>160.936323</td>\n",
       "      <td>6331.507982</td>\n",
       "      <td>2946.151879</td>\n",
       "      <td>86.435191</td>\n",
       "      <td>61.877404</td>\n",
       "      <td>0.317789</td>\n",
       "    </tr>\n",
       "    <tr>\n",
       "      <th>min</th>\n",
       "      <td>0.000000</td>\n",
       "      <td>150.000000</td>\n",
       "      <td>0.000000</td>\n",
       "      <td>17.000000</td>\n",
       "      <td>12.000000</td>\n",
       "      <td>0.000000</td>\n",
       "    </tr>\n",
       "    <tr>\n",
       "      <th>25%</th>\n",
       "      <td>139.000000</td>\n",
       "      <td>2882.000000</td>\n",
       "      <td>0.000000</td>\n",
       "      <td>100.000000</td>\n",
       "      <td>360.000000</td>\n",
       "      <td>1.000000</td>\n",
       "    </tr>\n",
       "    <tr>\n",
       "      <th>50%</th>\n",
       "      <td>278.000000</td>\n",
       "      <td>3812.000000</td>\n",
       "      <td>1302.000000</td>\n",
       "      <td>127.500000</td>\n",
       "      <td>360.000000</td>\n",
       "      <td>1.000000</td>\n",
       "    </tr>\n",
       "    <tr>\n",
       "      <th>75%</th>\n",
       "      <td>417.000000</td>\n",
       "      <td>5829.000000</td>\n",
       "      <td>2375.000000</td>\n",
       "      <td>170.000000</td>\n",
       "      <td>360.000000</td>\n",
       "      <td>1.000000</td>\n",
       "    </tr>\n",
       "    <tr>\n",
       "      <th>max</th>\n",
       "      <td>556.000000</td>\n",
       "      <td>81000.000000</td>\n",
       "      <td>41667.000000</td>\n",
       "      <td>700.000000</td>\n",
       "      <td>480.000000</td>\n",
       "      <td>1.000000</td>\n",
       "    </tr>\n",
       "  </tbody>\n",
       "</table>\n",
       "</div>"
      ],
      "text/plain": [
       "       Unnamed: 0       Salario  Salario_Pareja  Credito_pedido  \\\n",
       "count  557.000000    557.000000      557.000000      536.000000   \n",
       "mean   278.000000   5478.807899     1685.644596      146.882463   \n",
       "std    160.936323   6331.507982     2946.151879       86.435191   \n",
       "min      0.000000    150.000000        0.000000       17.000000   \n",
       "25%    139.000000   2882.000000        0.000000      100.000000   \n",
       "50%    278.000000   3812.000000     1302.000000      127.500000   \n",
       "75%    417.000000   5829.000000     2375.000000      170.000000   \n",
       "max    556.000000  81000.000000    41667.000000      700.000000   \n",
       "\n",
       "       Plazo_prestamo  Historial_crediticio  \n",
       "count      544.000000            510.000000  \n",
       "mean       342.220588              0.886275  \n",
       "std         61.877404              0.317789  \n",
       "min         12.000000              0.000000  \n",
       "25%        360.000000              1.000000  \n",
       "50%        360.000000              1.000000  \n",
       "75%        360.000000              1.000000  \n",
       "max        480.000000              1.000000  "
      ]
     },
     "execution_count": 3,
     "metadata": {},
     "output_type": "execute_result"
    }
   ],
   "source": [
    "#comenzamos con un análisis exploratorio\n",
    "data.describe()"
   ]
  },
  {
   "cell_type": "code",
   "execution_count": 4,
   "metadata": {},
   "outputs": [
    {
     "name": "stdout",
     "output_type": "stream",
     "text": [
      "<class 'pandas.core.frame.DataFrame'>\n",
      "RangeIndex: 557 entries, 0 to 556\n",
      "Data columns (total 17 columns):\n",
      " #   Column                Non-Null Count  Dtype  \n",
      "---  ------                --------------  -----  \n",
      " 0   Unnamed: 0            557 non-null    int64  \n",
      " 1   Fecha_registro        557 non-null    object \n",
      " 2   Fecha_contacto        557 non-null    object \n",
      " 3   Id                    557 non-null    object \n",
      " 4   Genero                545 non-null    object \n",
      " 5   Casado                554 non-null    object \n",
      " 6   Dependientes          544 non-null    object \n",
      " 7   Educacion             557 non-null    object \n",
      " 8   Trabaja_para_el       530 non-null    object \n",
      " 9   Salario               557 non-null    int64  \n",
      " 10  Salario_Pareja        557 non-null    float64\n",
      " 11  Credito_pedido        536 non-null    float64\n",
      " 12  Plazo_prestamo        544 non-null    float64\n",
      " 13  Historial_crediticio  510 non-null    float64\n",
      " 14  Area_vivienda         557 non-null    object \n",
      " 15  Estatus_prestamo      557 non-null    object \n",
      " 16  Asesor_asignado       440 non-null    object \n",
      "dtypes: float64(4), int64(2), object(11)\n",
      "memory usage: 74.1+ KB\n"
     ]
    }
   ],
   "source": [
    "data.info()"
   ]
  },
  {
   "cell_type": "code",
   "execution_count": 5,
   "metadata": {},
   "outputs": [
    {
     "data": {
      "text/plain": [
       "Unnamed: 0                0\n",
       "Fecha_registro            0\n",
       "Fecha_contacto            0\n",
       "Id                        0\n",
       "Genero                   12\n",
       "Casado                    3\n",
       "Dependientes             13\n",
       "Educacion                 0\n",
       "Trabaja_para_el          27\n",
       "Salario                   0\n",
       "Salario_Pareja            0\n",
       "Credito_pedido           21\n",
       "Plazo_prestamo           13\n",
       "Historial_crediticio     47\n",
       "Area_vivienda             0\n",
       "Estatus_prestamo          0\n",
       "Asesor_asignado         117\n",
       "dtype: int64"
      ]
     },
     "execution_count": 5,
     "metadata": {},
     "output_type": "execute_result"
    }
   ],
   "source": [
    "#revisamos los valores vacíos\n",
    "data.isnull().sum()"
   ]
  },
  {
   "cell_type": "code",
   "execution_count": 6,
   "metadata": {},
   "outputs": [
    {
     "data": {
      "text/html": [
       "<div>\n",
       "<style scoped>\n",
       "    .dataframe tbody tr th:only-of-type {\n",
       "        vertical-align: middle;\n",
       "    }\n",
       "\n",
       "    .dataframe tbody tr th {\n",
       "        vertical-align: top;\n",
       "    }\n",
       "\n",
       "    .dataframe thead th {\n",
       "        text-align: right;\n",
       "    }\n",
       "</style>\n",
       "<table border=\"1\" class=\"dataframe\">\n",
       "  <thead>\n",
       "    <tr style=\"text-align: right;\">\n",
       "      <th></th>\n",
       "      <th>Genero</th>\n",
       "      <th>Casado</th>\n",
       "      <th>Dependientes</th>\n",
       "      <th>Educacion</th>\n",
       "      <th>Trabaja_para_el</th>\n",
       "      <th>Salario</th>\n",
       "      <th>Salario_Pareja</th>\n",
       "      <th>Credito_pedido</th>\n",
       "      <th>Plazo_prestamo</th>\n",
       "      <th>Historial_crediticio</th>\n",
       "      <th>Area_vivienda</th>\n",
       "      <th>Estatus_prestamo</th>\n",
       "      <th>Asesor_asignado</th>\n",
       "    </tr>\n",
       "  </thead>\n",
       "  <tbody>\n",
       "    <tr>\n",
       "      <th>0</th>\n",
       "      <td>Hombre</td>\n",
       "      <td>Si</td>\n",
       "      <td>3+</td>\n",
       "      <td>Graduado</td>\n",
       "      <td>No</td>\n",
       "      <td>4691</td>\n",
       "      <td>0.0</td>\n",
       "      <td>100.0</td>\n",
       "      <td>360.0</td>\n",
       "      <td>1.0</td>\n",
       "      <td>Semiurbana</td>\n",
       "      <td>Si</td>\n",
       "      <td>Dudley</td>\n",
       "    </tr>\n",
       "    <tr>\n",
       "      <th>1</th>\n",
       "      <td>Hombre</td>\n",
       "      <td>Si</td>\n",
       "      <td>2</td>\n",
       "      <td>No Graduado</td>\n",
       "      <td>No</td>\n",
       "      <td>3333</td>\n",
       "      <td>2000.0</td>\n",
       "      <td>99.0</td>\n",
       "      <td>360.0</td>\n",
       "      <td>NaN</td>\n",
       "      <td>Semiurbana</td>\n",
       "      <td>Si</td>\n",
       "      <td>Pablo</td>\n",
       "    </tr>\n",
       "    <tr>\n",
       "      <th>2</th>\n",
       "      <td>Mujer</td>\n",
       "      <td>No</td>\n",
       "      <td>0</td>\n",
       "      <td>Graduado</td>\n",
       "      <td>No</td>\n",
       "      <td>4000</td>\n",
       "      <td>2275.0</td>\n",
       "      <td>144.0</td>\n",
       "      <td>360.0</td>\n",
       "      <td>1.0</td>\n",
       "      <td>Semiurbana</td>\n",
       "      <td>Si</td>\n",
       "      <td>Dudley</td>\n",
       "    </tr>\n",
       "    <tr>\n",
       "      <th>3</th>\n",
       "      <td>Hombre</td>\n",
       "      <td>Si</td>\n",
       "      <td>0</td>\n",
       "      <td>Graduado</td>\n",
       "      <td>No</td>\n",
       "      <td>2058</td>\n",
       "      <td>2134.0</td>\n",
       "      <td>88.0</td>\n",
       "      <td>360.0</td>\n",
       "      <td>NaN</td>\n",
       "      <td>Urabana</td>\n",
       "      <td>Si</td>\n",
       "      <td>Ana</td>\n",
       "    </tr>\n",
       "    <tr>\n",
       "      <th>4</th>\n",
       "      <td>Mujer</td>\n",
       "      <td>Si</td>\n",
       "      <td>0</td>\n",
       "      <td>Graduado</td>\n",
       "      <td>No</td>\n",
       "      <td>3166</td>\n",
       "      <td>0.0</td>\n",
       "      <td>36.0</td>\n",
       "      <td>360.0</td>\n",
       "      <td>1.0</td>\n",
       "      <td>Semiurbana</td>\n",
       "      <td>Si</td>\n",
       "      <td>Regina</td>\n",
       "    </tr>\n",
       "    <tr>\n",
       "      <th>...</th>\n",
       "      <td>...</td>\n",
       "      <td>...</td>\n",
       "      <td>...</td>\n",
       "      <td>...</td>\n",
       "      <td>...</td>\n",
       "      <td>...</td>\n",
       "      <td>...</td>\n",
       "      <td>...</td>\n",
       "      <td>...</td>\n",
       "      <td>...</td>\n",
       "      <td>...</td>\n",
       "      <td>...</td>\n",
       "      <td>...</td>\n",
       "    </tr>\n",
       "    <tr>\n",
       "      <th>552</th>\n",
       "      <td>Mujer</td>\n",
       "      <td>Si</td>\n",
       "      <td>0</td>\n",
       "      <td>Graduado</td>\n",
       "      <td>No</td>\n",
       "      <td>3166</td>\n",
       "      <td>0.0</td>\n",
       "      <td>36.0</td>\n",
       "      <td>360.0</td>\n",
       "      <td>1.0</td>\n",
       "      <td>Semiurbana</td>\n",
       "      <td>Si</td>\n",
       "      <td>Pablo</td>\n",
       "    </tr>\n",
       "    <tr>\n",
       "      <th>553</th>\n",
       "      <td>Hombre</td>\n",
       "      <td>Si</td>\n",
       "      <td>1</td>\n",
       "      <td>Graduado</td>\n",
       "      <td>No</td>\n",
       "      <td>8300</td>\n",
       "      <td>0.0</td>\n",
       "      <td>152.0</td>\n",
       "      <td>300.0</td>\n",
       "      <td>0.0</td>\n",
       "      <td>Semiurbana</td>\n",
       "      <td>No</td>\n",
       "      <td>NaN</td>\n",
       "    </tr>\n",
       "    <tr>\n",
       "      <th>554</th>\n",
       "      <td>Hombre</td>\n",
       "      <td>Si</td>\n",
       "      <td>2</td>\n",
       "      <td>Graduado</td>\n",
       "      <td>No</td>\n",
       "      <td>5391</td>\n",
       "      <td>0.0</td>\n",
       "      <td>130.0</td>\n",
       "      <td>360.0</td>\n",
       "      <td>1.0</td>\n",
       "      <td>Urabana</td>\n",
       "      <td>Si</td>\n",
       "      <td>Ana</td>\n",
       "    </tr>\n",
       "    <tr>\n",
       "      <th>555</th>\n",
       "      <td>Hombre</td>\n",
       "      <td>Si</td>\n",
       "      <td>2</td>\n",
       "      <td>No Graduado</td>\n",
       "      <td>No</td>\n",
       "      <td>3675</td>\n",
       "      <td>242.0</td>\n",
       "      <td>108.0</td>\n",
       "      <td>360.0</td>\n",
       "      <td>1.0</td>\n",
       "      <td>Semiurbana</td>\n",
       "      <td>Si</td>\n",
       "      <td>Pablo</td>\n",
       "    </tr>\n",
       "    <tr>\n",
       "      <th>556</th>\n",
       "      <td>Hombre</td>\n",
       "      <td>No</td>\n",
       "      <td>0</td>\n",
       "      <td>Graduado</td>\n",
       "      <td>No</td>\n",
       "      <td>4191</td>\n",
       "      <td>0.0</td>\n",
       "      <td>120.0</td>\n",
       "      <td>360.0</td>\n",
       "      <td>1.0</td>\n",
       "      <td>Rural</td>\n",
       "      <td>Si</td>\n",
       "      <td>Santiago</td>\n",
       "    </tr>\n",
       "  </tbody>\n",
       "</table>\n",
       "<p>557 rows × 13 columns</p>\n",
       "</div>"
      ],
      "text/plain": [
       "     Genero Casado Dependientes    Educacion Trabaja_para_el  Salario  \\\n",
       "0    Hombre     Si           3+     Graduado              No     4691   \n",
       "1    Hombre     Si            2  No Graduado              No     3333   \n",
       "2     Mujer     No            0     Graduado              No     4000   \n",
       "3    Hombre     Si            0     Graduado              No     2058   \n",
       "4     Mujer     Si            0     Graduado              No     3166   \n",
       "..      ...    ...          ...          ...             ...      ...   \n",
       "552   Mujer     Si            0     Graduado              No     3166   \n",
       "553  Hombre     Si            1     Graduado              No     8300   \n",
       "554  Hombre     Si            2     Graduado              No     5391   \n",
       "555  Hombre     Si            2  No Graduado              No     3675   \n",
       "556  Hombre     No            0     Graduado              No     4191   \n",
       "\n",
       "     Salario_Pareja  Credito_pedido  Plazo_prestamo  Historial_crediticio  \\\n",
       "0               0.0           100.0           360.0                   1.0   \n",
       "1            2000.0            99.0           360.0                   NaN   \n",
       "2            2275.0           144.0           360.0                   1.0   \n",
       "3            2134.0            88.0           360.0                   NaN   \n",
       "4               0.0            36.0           360.0                   1.0   \n",
       "..              ...             ...             ...                   ...   \n",
       "552             0.0            36.0           360.0                   1.0   \n",
       "553             0.0           152.0           300.0                   0.0   \n",
       "554             0.0           130.0           360.0                   1.0   \n",
       "555           242.0           108.0           360.0                   1.0   \n",
       "556             0.0           120.0           360.0                   1.0   \n",
       "\n",
       "    Area_vivienda Estatus_prestamo Asesor_asignado  \n",
       "0      Semiurbana               Si          Dudley  \n",
       "1      Semiurbana               Si           Pablo  \n",
       "2      Semiurbana               Si          Dudley  \n",
       "3         Urabana               Si             Ana  \n",
       "4      Semiurbana               Si          Regina  \n",
       "..            ...              ...             ...  \n",
       "552    Semiurbana               Si           Pablo  \n",
       "553    Semiurbana               No             NaN  \n",
       "554       Urabana               Si             Ana  \n",
       "555    Semiurbana               Si           Pablo  \n",
       "556         Rural               Si        Santiago  \n",
       "\n",
       "[557 rows x 13 columns]"
      ]
     },
     "execution_count": 6,
     "metadata": {},
     "output_type": "execute_result"
    }
   ],
   "source": [
    "\n",
    "#retiramos las columnas que no son relevantes en el modelado\n",
    "data.drop(columns=['Unnamed: 0','Fecha_contacto','Fecha_registro','Id'],inplace=True)\n",
    "data"
   ]
  },
  {
   "cell_type": "code",
   "execution_count": 7,
   "metadata": {},
   "outputs": [
    {
     "data": {
      "text/plain": [
       "['Salario',\n",
       " 'Salario_Pareja',\n",
       " 'Credito_pedido',\n",
       " 'Plazo_prestamo',\n",
       " 'Historial_crediticio']"
      ]
     },
     "execution_count": 7,
     "metadata": {},
     "output_type": "execute_result"
    }
   ],
   "source": [
    "#Columnas de tipo numéricas\n",
    "data.columns[(data.dtypes !='object').values].tolist()"
   ]
  },
  {
   "cell_type": "code",
   "execution_count": 8,
   "metadata": {},
   "outputs": [
    {
     "data": {
      "text/plain": [
       "['Genero',\n",
       " 'Casado',\n",
       " 'Dependientes',\n",
       " 'Educacion',\n",
       " 'Trabaja_para_el',\n",
       " 'Area_vivienda',\n",
       " 'Estatus_prestamo',\n",
       " 'Asesor_asignado']"
      ]
     },
     "execution_count": 8,
     "metadata": {},
     "output_type": "execute_result"
    }
   ],
   "source": [
    "#Revisamos las columnas con valores categóricos\n",
    "cat_columns = data.columns[(data.dtypes =='object').values].tolist()\n",
    "cat_columns"
   ]
  },
  {
   "cell_type": "code",
   "execution_count": 9,
   "metadata": {},
   "outputs": [
    {
     "name": "stdout",
     "output_type": "stream",
     "text": [
      "Genero \n",
      "\n",
      "Hombre    446\n",
      "Mujer      99\n",
      "Name: Genero, dtype: int64\n",
      "-----------------------------------------------\n",
      "Casado \n",
      "\n",
      "Si    368\n",
      "No    186\n",
      "Name: Casado, dtype: int64\n",
      "-----------------------------------------------\n",
      "Dependientes \n",
      "\n",
      "0     316\n",
      "2      92\n",
      "1      91\n",
      "3+     45\n",
      "Name: Dependientes, dtype: int64\n",
      "-----------------------------------------------\n",
      "Educacion \n",
      "\n",
      "Graduado       443\n",
      "No Graduado    114\n",
      "Name: Educacion, dtype: int64\n",
      "-----------------------------------------------\n",
      "Trabaja_para_el \n",
      "\n",
      "No    459\n",
      "Si     71\n",
      "Name: Trabaja_para_el, dtype: int64\n",
      "-----------------------------------------------\n",
      "Area_vivienda \n",
      "\n",
      "Semiurbana    217\n",
      "Urabana       180\n",
      "Rural         160\n",
      "Name: Area_vivienda, dtype: int64\n",
      "-----------------------------------------------\n",
      "Estatus_prestamo \n",
      "\n",
      "Si    440\n",
      "No    117\n",
      "Name: Estatus_prestamo, dtype: int64\n",
      "-----------------------------------------------\n",
      "Asesor_asignado \n",
      "\n",
      "Ana         91\n",
      "Pablo       89\n",
      "Santiago    89\n",
      "Regina      87\n",
      "Dudley      84\n",
      "Name: Asesor_asignado, dtype: int64\n",
      "-----------------------------------------------\n"
     ]
    }
   ],
   "source": [
    "#Hacemos un conteo de los valores dentro de cada columna\n",
    "\n",
    "for i in data.columns[(data.dtypes =='object').values].tolist():\n",
    "    print(i,'\\n')\n",
    "    print(data[i].value_counts())\n",
    "    print('-----------------------------------------------')"
   ]
  },
  {
   "cell_type": "markdown",
   "metadata": {},
   "source": [
    "### Visualización gráfica de los datos"
   ]
  },
  {
   "cell_type": "code",
   "execution_count": 10,
   "metadata": {},
   "outputs": [],
   "source": [
    "#COmenzamos con los datos numéricos\n",
    "import seaborn as sns\n"
   ]
  },
  {
   "cell_type": "code",
   "execution_count": 11,
   "metadata": {},
   "outputs": [
    {
     "name": "stderr",
     "output_type": "stream",
     "text": [
      "D:\\Anaconda\\envs\\tf\\lib\\site-packages\\seaborn\\_decorators.py:43: FutureWarning: Pass the following variable as a keyword arg: x. From version 0.12, the only valid positional argument will be `data`, and passing other arguments without an explicit keyword will result in an error or misinterpretation.\n",
      "  FutureWarning\n"
     ]
    },
    {
     "data": {
      "text/plain": [
       "<matplotlib.axes._subplots.AxesSubplot at 0x1f4830fd888>"
      ]
     },
     "execution_count": 11,
     "metadata": {},
     "output_type": "execute_result"
    },
    {
     "data": {
      "image/png": "[encoded data removed]",
      "text/plain": [
       "<Figure size 432x288 with 1 Axes>"
      ]
     },
     "metadata": {
      "needs_background": "light"
     },
     "output_type": "display_data"
    }
   ],
   "source": [
    "sns.boxplot(data['Salario'])"
   ]
  },
  {
   "cell_type": "code",
   "execution_count": 12,
   "metadata": {},
   "outputs": [
    {
     "name": "stderr",
     "output_type": "stream",
     "text": [
      "D:\\Anaconda\\envs\\tf\\lib\\site-packages\\seaborn\\_decorators.py:43: FutureWarning: Pass the following variable as a keyword arg: x. From version 0.12, the only valid positional argument will be `data`, and passing other arguments without an explicit keyword will result in an error or misinterpretation.\n",
      "  FutureWarning\n"
     ]
    },
    {
     "data": {
      "text/plain": [
       "<matplotlib.axes._subplots.AxesSubplot at 0x1f4831d1208>"
      ]
     },
     "execution_count": 12,
     "metadata": {},
     "output_type": "execute_result"
    },
    {
     "data": {
      "image/png": "[encoded data removed]",
      "text/plain": [
       "<Figure size 432x288 with 1 Axes>"
      ]
     },
     "metadata": {
      "needs_background": "light"
     },
     "output_type": "display_data"
    }
   ],
   "source": [
    "sns.boxplot(data['Salario_Pareja'])"
   ]
  },
  {
   "cell_type": "code",
   "execution_count": 13,
   "metadata": {},
   "outputs": [
    {
     "name": "stderr",
     "output_type": "stream",
     "text": [
      "D:\\Anaconda\\envs\\tf\\lib\\site-packages\\seaborn\\_decorators.py:43: FutureWarning: Pass the following variable as a keyword arg: x. From version 0.12, the only valid positional argument will be `data`, and passing other arguments without an explicit keyword will result in an error or misinterpretation.\n",
      "  FutureWarning\n"
     ]
    },
    {
     "data": {
      "text/plain": [
       "<matplotlib.axes._subplots.AxesSubplot at 0x1f483252948>"
      ]
     },
     "execution_count": 13,
     "metadata": {},
     "output_type": "execute_result"
    },
    {
     "data": {
      "image/png": "[encoded data removed]",
      "text/plain": [
       "<Figure size 432x288 with 1 Axes>"
      ]
     },
     "metadata": {
      "needs_background": "light"
     },
     "output_type": "display_data"
    }
   ],
   "source": [
    "sns.boxplot(data['Credito_pedido'])"
   ]
  },
  {
   "cell_type": "code",
   "execution_count": 14,
   "metadata": {},
   "outputs": [
    {
     "name": "stderr",
     "output_type": "stream",
     "text": [
      "D:\\Anaconda\\envs\\tf\\lib\\site-packages\\seaborn\\_decorators.py:43: FutureWarning: Pass the following variable as a keyword arg: x. From version 0.12, the only valid positional argument will be `data`, and passing other arguments without an explicit keyword will result in an error or misinterpretation.\n",
      "  FutureWarning\n"
     ]
    },
    {
     "data": {
      "text/plain": [
       "<matplotlib.axes._subplots.AxesSubplot at 0x1f4832c3f48>"
      ]
     },
     "execution_count": 14,
     "metadata": {},
     "output_type": "execute_result"
    },
    {
     "data": {
      "image/png": "[encoded data removed]",
      "text/plain": [
       "<Figure size 432x288 with 1 Axes>"
      ]
     },
     "metadata": {
      "needs_background": "light"
     },
     "output_type": "display_data"
    }
   ],
   "source": [
    "sns.boxplot(data['Plazo_prestamo'])"
   ]
  },
  {
   "cell_type": "code",
   "execution_count": 15,
   "metadata": {},
   "outputs": [
    {
     "data": {
      "image/png": "[encoded data removed]",
      "text/plain": [
       "<Figure size 576x576 with 1 Axes>"
      ]
     },
     "metadata": {},
     "output_type": "display_data"
    }
   ],
   "source": [
    "#Visualización de porcentajes en variables categóricas\n",
    "plt.figure(figsize = (8,8))\n",
    "plt.pie(data['Educacion'].value_counts(), labels=data['Educacion'].value_counts().index, autopct='%1.2f%%')\n",
    "plt.title('Porcentaje de educación de solicitantes')\n",
    "plt.legend()\n",
    "plt.show()\n"
   ]
  },
  {
   "cell_type": "code",
   "execution_count": 16,
   "metadata": {},
   "outputs": [
    {
     "data": {
      "image/png": "[encoded data removed]",
      "text/plain": [
       "<Figure size 576x576 with 1 Axes>"
      ]
     },
     "metadata": {},
     "output_type": "display_data"
    }
   ],
   "source": [
    "plt.figure(figsize = (8,8))\n",
    "plt.pie(data['Genero'].value_counts(), labels=data['Genero'].value_counts().index, autopct='%1.2f%%')\n",
    "plt.title('Porcentaje de género de los solicitantes')\n",
    "plt.legend()\n",
    "plt.show()"
   ]
  },
  {
   "cell_type": "code",
   "execution_count": 17,
   "metadata": {},
   "outputs": [
    {
     "data": {
      "image/png": "[encoded data removed]",
      "text/plain": [
       "<Figure size 576x576 with 1 Axes>"
      ]
     },
     "metadata": {},
     "output_type": "display_data"
    }
   ],
   "source": [
    "plt.figure(figsize = (8,8))\n",
    "plt.pie(data['Area_vivienda'].value_counts(), labels=data['Area_vivienda'].value_counts().index, autopct='%1.2f%%')\n",
    "plt.title('Porcentaje de área de vivienda')\n",
    "plt.legend()\n",
    "plt.show()"
   ]
  },
  {
   "cell_type": "code",
   "execution_count": 18,
   "metadata": {},
   "outputs": [
    {
     "data": {
      "image/png": "[encoded data removed]",
      "text/plain": [
       "<Figure size 576x576 with 1 Axes>"
      ]
     },
     "metadata": {},
     "output_type": "display_data"
    }
   ],
   "source": [
    "plt.figure(figsize = (8,8))\n",
    "plt.pie(data['Dependientes'].value_counts(), labels=data['Dependientes'].value_counts().index, autopct='%1.2f%%')\n",
    "plt.title('Porcentaje de personas que dependen económicamente del solicitante')\n",
    "plt.legend()\n",
    "plt.show()"
   ]
  },
  {
   "cell_type": "code",
   "execution_count": 19,
   "metadata": {},
   "outputs": [
    {
     "data": {
      "image/png": "[encoded data removed]",
      "text/plain": [
       "<Figure size 576x576 with 1 Axes>"
      ]
     },
     "metadata": {},
     "output_type": "display_data"
    }
   ],
   "source": [
    "plt.figure(figsize = (8,8))\n",
    "plt.pie(data['Casado'].value_counts(), labels=data['Casado'].value_counts().index, autopct='%1.2f%%')\n",
    "plt.title('Porcentaje de solicitantes casados')\n",
    "plt.legend()\n",
    "plt.show()"
   ]
  },
  {
   "cell_type": "code",
   "execution_count": 20,
   "metadata": {},
   "outputs": [
    {
     "data": {
      "image/png": "[encoded data removed]",
      "text/plain": [
       "<Figure size 576x576 with 1 Axes>"
      ]
     },
     "metadata": {},
     "output_type": "display_data"
    }
   ],
   "source": [
    "plt.figure(figsize = (8,8))\n",
    "plt.pie(data['Trabaja_para_el'].value_counts(), labels=data['Trabaja_para_el'].value_counts().index, autopct='%1.2f%%')\n",
    "plt.title('Porcentaje del solicitantes que son dueños del negocio')\n",
    "plt.legend()\n",
    "plt.show()"
   ]
  },
  {
   "cell_type": "code",
   "execution_count": 21,
   "metadata": {},
   "outputs": [
    {
     "data": {
      "image/png": "[encoded data removed]",
      "text/plain": [
       "<Figure size 576x576 with 1 Axes>"
      ]
     },
     "metadata": {},
     "output_type": "display_data"
    }
   ],
   "source": [
    "plt.figure(figsize = (8,8))\n",
    "plt.pie(data['Historial_crediticio'].value_counts(), labels=data['Historial_crediticio'].value_counts().index, autopct='%1.2f%%')\n",
    "plt.title('Porcentaje del solicitantes con historial')\n",
    "plt.legend()\n",
    "plt.show()"
   ]
  },
  {
   "cell_type": "markdown",
   "metadata": {},
   "source": [
    "### Limpieza de datos"
   ]
  },
  {
   "cell_type": "code",
   "execution_count": 22,
   "metadata": {},
   "outputs": [],
   "source": [
    "#Solucionamos valores faltantes en esta columna con el promedio\n",
    "data['Credito_pedido'].fillna(data['Credito_pedido'].mean(), inplace=True)"
   ]
  },
  {
   "cell_type": "code",
   "execution_count": 23,
   "metadata": {},
   "outputs": [],
   "source": [
    "#Solucionamos los valores faltantes en variables categóricas, respetando la proporción de distribución\n",
    "#Lo mismo se realiza en las siguientes columnas para los NaN values\n",
    "import random \n",
    "nans = data['Genero'].isna()\n",
    "length = sum(nans)\n",
    "replacement = random.choices(['Hombre', 'Mujer'], weights=[.8, .2], k=length)\n",
    "data.loc[nans,'Genero'] = replacement\n"
   ]
  },
  {
   "cell_type": "code",
   "execution_count": 24,
   "metadata": {},
   "outputs": [],
   "source": [
    "nans = data['Dependientes'].isna()\n",
    "length = sum(nans)\n",
    "replacement = random.choices(['0','1','2','3+'], weights=[.5809,0.1673,0.1691,0.0827], k=length)\n",
    "data.loc[nans,'Dependientes'] = replacement"
   ]
  },
  {
   "cell_type": "code",
   "execution_count": 25,
   "metadata": {},
   "outputs": [],
   "source": [
    "nans = data['Trabaja_para_el'].isna()\n",
    "length = sum(nans)\n",
    "replacement = random.choices(['No','Si'], weights=[.865,.135], k=length)\n",
    "data.loc[nans,'Trabaja_para_el'] = replacement"
   ]
  },
  {
   "cell_type": "code",
   "execution_count": 26,
   "metadata": {},
   "outputs": [],
   "source": [
    "nans = data['Historial_crediticio'].isna()\n",
    "length = sum(nans)\n",
    "replacement = random.choices([1.0,0.0], weights=[.8841,1-0.1159], k=length)\n",
    "data.loc[nans,'Historial_crediticio'] = replacement"
   ]
  },
  {
   "cell_type": "code",
   "execution_count": 27,
   "metadata": {},
   "outputs": [],
   "source": [
    "nans = data['Plazo_prestamo'].isna()\n",
    "length = sum(nans)\n",
    "replacement = random.choices([360.0,\n",
    "180.0,\n",
    "300.0,\n",
    "480.0,\n",
    "84.0,\n",
    "240.0 ,\n",
    "120.0 ,\n",
    "60.0,\n",
    "12.0,], weights=[0.860294,0.069853,0.027574,0.018382,0.007353,0.005515,0.005515,0.003676,0.001838], k=length)\n",
    "data.loc[nans,'Plazo_prestamo'] = replacement"
   ]
  },
  {
   "cell_type": "code",
   "execution_count": 28,
   "metadata": {},
   "outputs": [],
   "source": [
    "nans = data['Casado'].isna()\n",
    "length = sum(nans)\n",
    "replacement = random.choices(['Si','No'], weights=[.6643,1-0.6643], k=length)\n",
    "data.loc[nans,'Casado'] = replacement"
   ]
  },
  {
   "cell_type": "code",
   "execution_count": 29,
   "metadata": {},
   "outputs": [],
   "source": [
    "data['Asesor_asignado'].fillna('Sin asesor',inplace=True)"
   ]
  },
  {
   "cell_type": "code",
   "execution_count": 30,
   "metadata": {},
   "outputs": [
    {
     "data": {
      "text/plain": [
       "Sin asesor    117\n",
       "Ana            91\n",
       "Pablo          89\n",
       "Santiago       89\n",
       "Regina         87\n",
       "Dudley         84\n",
       "Name: Asesor_asignado, dtype: int64"
      ]
     },
     "execution_count": 30,
     "metadata": {},
     "output_type": "execute_result"
    }
   ],
   "source": [
    "data['Asesor_asignado'].value_counts()"
   ]
  },
  {
   "cell_type": "code",
   "execution_count": 31,
   "metadata": {},
   "outputs": [
    {
     "data": {
      "text/plain": [
       "Genero                  0\n",
       "Casado                  0\n",
       "Dependientes            0\n",
       "Educacion               0\n",
       "Trabaja_para_el         0\n",
       "Salario                 0\n",
       "Salario_Pareja          0\n",
       "Credito_pedido          0\n",
       "Plazo_prestamo          0\n",
       "Historial_crediticio    0\n",
       "Area_vivienda           0\n",
       "Estatus_prestamo        0\n",
       "Asesor_asignado         0\n",
       "dtype: int64"
      ]
     },
     "execution_count": 31,
     "metadata": {},
     "output_type": "execute_result"
    }
   ],
   "source": [
    "#revisamos nuevamente si queda algún valor vacío\n",
    "data.isnull().sum()"
   ]
  },
  {
   "cell_type": "markdown",
   "metadata": {},
   "source": [
    "### Transformación de los datos"
   ]
  },
  {
   "cell_type": "code",
   "execution_count": 32,
   "metadata": {},
   "outputs": [
    {
     "data": {
      "text/html": [
       "<div>\n",
       "<style scoped>\n",
       "    .dataframe tbody tr th:only-of-type {\n",
       "        vertical-align: middle;\n",
       "    }\n",
       "\n",
       "    .dataframe tbody tr th {\n",
       "        vertical-align: top;\n",
       "    }\n",
       "\n",
       "    .dataframe thead th {\n",
       "        text-align: right;\n",
       "    }\n",
       "</style>\n",
       "<table border=\"1\" class=\"dataframe\">\n",
       "  <thead>\n",
       "    <tr style=\"text-align: right;\">\n",
       "      <th></th>\n",
       "      <th>Genero</th>\n",
       "      <th>Casado</th>\n",
       "      <th>Dependientes</th>\n",
       "      <th>Educacion</th>\n",
       "      <th>Trabaja_para_el</th>\n",
       "      <th>Salario</th>\n",
       "      <th>Salario_Pareja</th>\n",
       "      <th>Credito_pedido</th>\n",
       "      <th>Plazo_prestamo</th>\n",
       "      <th>Historial_crediticio</th>\n",
       "      <th>Area_vivienda</th>\n",
       "      <th>Estatus_prestamo</th>\n",
       "      <th>Asesor_asignado</th>\n",
       "    </tr>\n",
       "  </thead>\n",
       "  <tbody>\n",
       "    <tr>\n",
       "      <th>0</th>\n",
       "      <td>0</td>\n",
       "      <td>1</td>\n",
       "      <td>3</td>\n",
       "      <td>0</td>\n",
       "      <td>0</td>\n",
       "      <td>4691</td>\n",
       "      <td>0.0</td>\n",
       "      <td>100.0</td>\n",
       "      <td>360.0</td>\n",
       "      <td>1.0</td>\n",
       "      <td>1</td>\n",
       "      <td>1</td>\n",
       "      <td>1</td>\n",
       "    </tr>\n",
       "    <tr>\n",
       "      <th>1</th>\n",
       "      <td>0</td>\n",
       "      <td>1</td>\n",
       "      <td>2</td>\n",
       "      <td>1</td>\n",
       "      <td>0</td>\n",
       "      <td>3333</td>\n",
       "      <td>2000.0</td>\n",
       "      <td>99.0</td>\n",
       "      <td>360.0</td>\n",
       "      <td>0.0</td>\n",
       "      <td>1</td>\n",
       "      <td>1</td>\n",
       "      <td>2</td>\n",
       "    </tr>\n",
       "    <tr>\n",
       "      <th>2</th>\n",
       "      <td>1</td>\n",
       "      <td>0</td>\n",
       "      <td>0</td>\n",
       "      <td>0</td>\n",
       "      <td>0</td>\n",
       "      <td>4000</td>\n",
       "      <td>2275.0</td>\n",
       "      <td>144.0</td>\n",
       "      <td>360.0</td>\n",
       "      <td>1.0</td>\n",
       "      <td>1</td>\n",
       "      <td>1</td>\n",
       "      <td>1</td>\n",
       "    </tr>\n",
       "    <tr>\n",
       "      <th>3</th>\n",
       "      <td>0</td>\n",
       "      <td>1</td>\n",
       "      <td>0</td>\n",
       "      <td>0</td>\n",
       "      <td>0</td>\n",
       "      <td>2058</td>\n",
       "      <td>2134.0</td>\n",
       "      <td>88.0</td>\n",
       "      <td>360.0</td>\n",
       "      <td>0.0</td>\n",
       "      <td>2</td>\n",
       "      <td>1</td>\n",
       "      <td>0</td>\n",
       "    </tr>\n",
       "    <tr>\n",
       "      <th>4</th>\n",
       "      <td>1</td>\n",
       "      <td>1</td>\n",
       "      <td>0</td>\n",
       "      <td>0</td>\n",
       "      <td>0</td>\n",
       "      <td>3166</td>\n",
       "      <td>0.0</td>\n",
       "      <td>36.0</td>\n",
       "      <td>360.0</td>\n",
       "      <td>1.0</td>\n",
       "      <td>1</td>\n",
       "      <td>1</td>\n",
       "      <td>3</td>\n",
       "    </tr>\n",
       "  </tbody>\n",
       "</table>\n",
       "</div>"
      ],
      "text/plain": [
       "   Genero  Casado  Dependientes  Educacion  Trabaja_para_el  Salario  \\\n",
       "0       0       1             3          0                0     4691   \n",
       "1       0       1             2          1                0     3333   \n",
       "2       1       0             0          0                0     4000   \n",
       "3       0       1             0          0                0     2058   \n",
       "4       1       1             0          0                0     3166   \n",
       "\n",
       "   Salario_Pareja  Credito_pedido  Plazo_prestamo  Historial_crediticio  \\\n",
       "0             0.0           100.0           360.0                   1.0   \n",
       "1          2000.0            99.0           360.0                   0.0   \n",
       "2          2275.0           144.0           360.0                   1.0   \n",
       "3          2134.0            88.0           360.0                   0.0   \n",
       "4             0.0            36.0           360.0                   1.0   \n",
       "\n",
       "   Area_vivienda  Estatus_prestamo  Asesor_asignado  \n",
       "0              1                 1                1  \n",
       "1              1                 1                2  \n",
       "2              1                 1                1  \n",
       "3              2                 1                0  \n",
       "4              1                 1                3  "
      ]
     },
     "execution_count": 32,
     "metadata": {},
     "output_type": "execute_result"
    }
   ],
   "source": [
    "#Convertimos las variables categoricas a numericas\n",
    "from sklearn.preprocessing import LabelEncoder\n",
    "\n",
    "for col in cat_columns:\n",
    "        globals()['LE_{}'.format(col)] = LabelEncoder()\n",
    "        data[col] = globals()['LE_{}'.format(col)].fit_transform(data[col])\n",
    "data.head()    "
   ]
  },
  {
   "cell_type": "code",
   "execution_count": 33,
   "metadata": {},
   "outputs": [
    {
     "data": {
      "image/png": "[encoded data removed]",
      "text/plain": [
       "<Figure size 576x576 with 2 Axes>"
      ]
     },
     "metadata": {
      "needs_background": "light"
     },
     "output_type": "display_data"
    }
   ],
   "source": [
    "#Observamos la correlación entre las variables\n",
    "cor=data.corr()\n",
    "plt.figure(figsize=(8,8))\n",
    "ax = sns.heatmap(cor, annot=True)"
   ]
  },
  {
   "cell_type": "code",
   "execution_count": 34,
   "metadata": {},
   "outputs": [],
   "source": [
    "#Dividimos los datos para el entrenamiento del modelo\n",
    "#Quitamos la columna 'Asesor_asignado', pues no es de ayuda para el modelo\n",
    "X=data.drop(columns=['Estatus_prestamo','Asesor_asignado'],axis=1)\n",
    "Y=data['Estatus_prestamo']"
   ]
  },
  {
   "cell_type": "code",
   "execution_count": 35,
   "metadata": {},
   "outputs": [
    {
     "data": {
      "text/plain": [
       "0    1\n",
       "1    1\n",
       "2    1\n",
       "3    1\n",
       "4    1\n",
       "Name: Estatus_prestamo, dtype: int32"
      ]
     },
     "execution_count": 35,
     "metadata": {},
     "output_type": "execute_result"
    }
   ],
   "source": [
    "#Revisamos el target\n",
    "Y.head()"
   ]
  },
  {
   "cell_type": "code",
   "execution_count": 36,
   "metadata": {},
   "outputs": [],
   "source": [
    "#Estandarizamos los datos\n",
    "from sklearn import preprocessing\n",
    "scaler = preprocessing.StandardScaler().fit(X)\n",
    "X_scaled = scaler.transform(X)\n"
   ]
  },
  {
   "cell_type": "code",
   "execution_count": 37,
   "metadata": {},
   "outputs": [],
   "source": [
    "#Separamos los datos de prueba y entrenamiento\n",
    "from sklearn.model_selection import train_test_split\n",
    "x_train, x_test, y_train, y_test = train_test_split(X_scaled,\n",
    "                                                    Y,\n",
    "                                                    test_size=0.2,\n",
    "                                                    random_state = 10)"
   ]
  },
  {
   "cell_type": "markdown",
   "metadata": {},
   "source": [
    "## Propocición de los modelos de predicción\n",
    "\n",
    "#### Logistic Regression"
   ]
  },
  {
   "cell_type": "code",
   "execution_count": 38,
   "metadata": {},
   "outputs": [
    {
     "name": "stdout",
     "output_type": "stream",
     "text": [
      "Training Accuracy 83.59550561797752 %\n",
      "Logistic Model Accuracy :  80.35714285714286 %\n",
      "\n",
      "Matriz de confusión :\n",
      "[[ 9 17]\n",
      " [ 5 81]]\n",
      "\n",
      "Métricas de evaluación del modelo:\n",
      "              precision    recall  f1-score   support\n",
      "\n",
      "           0       0.64      0.35      0.45        26\n",
      "           1       0.83      0.94      0.88        86\n",
      "\n",
      "    accuracy                           0.80       112\n",
      "   macro avg       0.73      0.64      0.67       112\n",
      "weighted avg       0.78      0.80      0.78       112\n",
      "\n"
     ]
    }
   ],
   "source": [
    "# Modelamos usando Logistic Regresion\n",
    "\n",
    "from sklearn.linear_model import LogisticRegression\n",
    "from sklearn.metrics import classification_report, accuracy_score, confusion_matrix\n",
    "\n",
    "log_model = LogisticRegression()\n",
    "log_model.fit(x_train, y_train)\n",
    "\n",
    "print('Training Accuracy',log_model.score(x_train,y_train)*100, '%')\n",
    "print('Logistic Model Accuracy : ', log_model.score(x_test, y_test)*100, '%')\n",
    "\n",
    "prediction_log = log_model.predict(x_test)\n",
    "print('\\nMatriz de confusión :')\n",
    "print(confusion_matrix(y_test, prediction_log))\n",
    "      \n",
    "print('\\nMétricas de evaluación del modelo:')      \n",
    "print(classification_report(y_test, prediction_log))\n"
   ]
  },
  {
   "cell_type": "code",
   "execution_count": 39,
   "metadata": {},
   "outputs": [],
   "source": [
    "from sklearn.model_selection import KFold\n",
    "from sklearn.model_selection import cross_val_score\n",
    "kfold = KFold(5)"
   ]
  },
  {
   "cell_type": "code",
   "execution_count": 40,
   "metadata": {},
   "outputs": [
    {
     "name": "stdout",
     "output_type": "stream",
     "text": [
      "Accuracy usando cross val:  82.22329472329471\n"
     ]
    }
   ],
   "source": [
    "#Resultados usando cross validation\n",
    "results=cross_val_score(log_model,X_scaled,Y,cv=kfold)\n",
    "\n",
    "print('Accuracy usando cross val: ',np.mean(results)*100)"
   ]
  },
  {
   "cell_type": "markdown",
   "metadata": {},
   "source": [
    "### Decission Tree"
   ]
  },
  {
   "cell_type": "code",
   "execution_count": 41,
   "metadata": {},
   "outputs": [
    {
     "name": "stdout",
     "output_type": "stream",
     "text": [
      "Decision Tree Model Accuracy :  78.57142857142857 %\n",
      "\n",
      "Matriz de confusión :\n",
      "[[15 11]\n",
      " [13 73]]\n",
      "\n",
      "Métricas de evaluación:\n",
      "              precision    recall  f1-score   support\n",
      "\n",
      "           0       0.54      0.58      0.56        26\n",
      "           1       0.87      0.85      0.86        86\n",
      "\n",
      "    accuracy                           0.79       112\n",
      "   macro avg       0.70      0.71      0.71       112\n",
      "weighted avg       0.79      0.79      0.79       112\n",
      "\n"
     ]
    }
   ],
   "source": [
    "# Probamos Decision tree como otro modelo\n",
    "\n",
    "from sklearn.tree import DecisionTreeClassifier\n",
    "\n",
    "decision_model = DecisionTreeClassifier(max_depth=12,min_samples_split=8)\n",
    "\n",
    "decision_model.fit(x_train, y_train)\n",
    "\n",
    "print('Decision Tree Model Accuracy : ', decision_model.score(x_test, y_test)*100, '%')\n",
    "\n",
    "prediction_tree = decision_model.predict(x_test)\n",
    "print('\\nMatriz de confusión :')\n",
    "print(confusion_matrix(y_test, prediction_tree))\n",
    "      \n",
    "print('\\nMétricas de evaluación:')      \n",
    "print(classification_report(y_test, prediction_tree))"
   ]
  },
  {
   "cell_type": "code",
   "execution_count": 42,
   "metadata": {},
   "outputs": [
    {
     "name": "stdout",
     "output_type": "stream",
     "text": [
      "Accuracy usando cross val para Decision tree:  76.48809523809523\n"
     ]
    }
   ],
   "source": [
    "#Resultados usando cross validation\n",
    "results=cross_val_score(decision_model,X_scaled,Y,cv=kfold)\n",
    "\n",
    "print('Accuracy usando cross val para Decision tree: ',np.mean(results)*100)"
   ]
  },
  {
   "cell_type": "markdown",
   "metadata": {},
   "source": [
    "### Red Neuronal"
   ]
  },
  {
   "cell_type": "code",
   "execution_count": 43,
   "metadata": {},
   "outputs": [
    {
     "name": "stderr",
     "output_type": "stream",
     "text": [
      "Using TensorFlow backend.\n"
     ]
    }
   ],
   "source": [
    "#Importamos las librerías necesarias para construir la red neuronal\n",
    "from keras import layers\n",
    "from keras.layers import Input, Dense, Activation, Flatten\n",
    "from keras.models import Model\n",
    "from keras.preprocessing import image\n",
    "from keras.utils import layer_utils\n",
    "from keras.utils.data_utils import get_file\n",
    "from keras.applications.imagenet_utils import preprocess_input\n",
    "from keras.utils.vis_utils import model_to_dot\n",
    "from keras.utils import plot_model\n",
    "from keras.optimizers import SGD\n",
    "import keras.backend as K\n",
    "from keras import Sequential"
   ]
  },
  {
   "cell_type": "code",
   "execution_count": 44,
   "metadata": {},
   "outputs": [],
   "source": [
    "#Creación de la red neuronal\n",
    "model = Sequential()\n",
    "model.add(Dense(12, input_dim=11, activation='tanh'))\n",
    "model.add(Dense(1, activation='sigmoid'))\n",
    "model.compile(loss='mean_squared_error', optimizer='adam')"
   ]
  },
  {
   "cell_type": "code",
   "execution_count": 45,
   "metadata": {},
   "outputs": [
    {
     "name": "stdout",
     "output_type": "stream",
     "text": [
      "Train on 400 samples, validate on 45 samples\n",
      "Epoch 1/50\n",
      "400/400 [==============================] - 1s 1ms/step - loss: 0.2409 - val_loss: 0.2384\n",
      "Epoch 2/50\n",
      "400/400 [==============================] - 0s 505us/step - loss: 0.2107 - val_loss: 0.2129\n",
      "Epoch 3/50\n",
      "400/400 [==============================] - 0s 477us/step - loss: 0.1881 - val_loss: 0.1943\n",
      "Epoch 4/50\n",
      "400/400 [==============================] - 0s 425us/step - loss: 0.1725 - val_loss: 0.1777\n",
      "Epoch 5/50\n",
      "400/400 [==============================] - 0s 375us/step - loss: 0.1600 - val_loss: 0.1667\n",
      "Epoch 6/50\n",
      "400/400 [==============================] - 0s 427us/step - loss: 0.1519 - val_loss: 0.1562\n",
      "Epoch 7/50\n",
      "400/400 [==============================] - 0s 390us/step - loss: 0.1455 - val_loss: 0.1507\n",
      "Epoch 8/50\n",
      "400/400 [==============================] - 0s 425us/step - loss: 0.1408 - val_loss: 0.1449\n",
      "Epoch 9/50\n",
      "400/400 [==============================] - 0s 433us/step - loss: 0.1371 - val_loss: 0.1413\n",
      "Epoch 10/50\n",
      "400/400 [==============================] - 0s 508us/step - loss: 0.1345 - val_loss: 0.1381\n",
      "Epoch 11/50\n",
      "400/400 [==============================] - 0s 365us/step - loss: 0.1323 - val_loss: 0.1362\n",
      "Epoch 12/50\n",
      "400/400 [==============================] - 0s 320us/step - loss: 0.1308 - val_loss: 0.1348\n",
      "Epoch 13/50\n",
      "400/400 [==============================] - 0s 445us/step - loss: 0.1297 - val_loss: 0.1329\n",
      "Epoch 14/50\n",
      "400/400 [==============================] - 0s 438us/step - loss: 0.1284 - val_loss: 0.1327\n",
      "Epoch 15/50\n",
      "400/400 [==============================] - 0s 483us/step - loss: 0.1275 - val_loss: 0.1321\n",
      "Epoch 16/50\n",
      "400/400 [==============================] - 0s 482us/step - loss: 0.1269 - val_loss: 0.1314\n",
      "Epoch 17/50\n",
      "400/400 [==============================] - 0s 465us/step - loss: 0.1262 - val_loss: 0.1300\n",
      "Epoch 18/50\n",
      "400/400 [==============================] - 0s 343us/step - loss: 0.1256 - val_loss: 0.1294\n",
      "Epoch 19/50\n",
      "400/400 [==============================] - 0s 383us/step - loss: 0.1250 - val_loss: 0.1301\n",
      "Epoch 20/50\n",
      "400/400 [==============================] - 0s 425us/step - loss: 0.1247 - val_loss: 0.1294\n",
      "Epoch 21/50\n",
      "400/400 [==============================] - 0s 415us/step - loss: 0.1241 - val_loss: 0.1300\n",
      "Epoch 22/50\n",
      "400/400 [==============================] - 0s 432us/step - loss: 0.1239 - val_loss: 0.1301\n",
      "Epoch 23/50\n",
      "400/400 [==============================] - 0s 442us/step - loss: 0.1232 - val_loss: 0.1297\n",
      "Epoch 24/50\n",
      "400/400 [==============================] - 0s 358us/step - loss: 0.1229 - val_loss: 0.1298\n",
      "Epoch 25/50\n",
      "400/400 [==============================] - 0s 315us/step - loss: 0.1225 - val_loss: 0.1300\n",
      "Epoch 26/50\n",
      "400/400 [==============================] - 0s 376us/step - loss: 0.1222 - val_loss: 0.1303\n",
      "Epoch 27/50\n",
      "400/400 [==============================] - 0s 313us/step - loss: 0.1219 - val_loss: 0.1302\n",
      "Epoch 28/50\n",
      "400/400 [==============================] - 0s 330us/step - loss: 0.1214 - val_loss: 0.1302\n",
      "Epoch 29/50\n",
      "400/400 [==============================] - 0s 332us/step - loss: 0.1212 - val_loss: 0.1306\n",
      "Epoch 30/50\n",
      "400/400 [==============================] - 0s 337us/step - loss: 0.1210 - val_loss: 0.1314\n",
      "Epoch 31/50\n",
      "400/400 [==============================] - 0s 365us/step - loss: 0.1206 - val_loss: 0.1318\n",
      "Epoch 32/50\n",
      "400/400 [==============================] - 0s 515us/step - loss: 0.1203 - val_loss: 0.1311\n",
      "Epoch 33/50\n",
      "400/400 [==============================] - 0s 465us/step - loss: 0.1199 - val_loss: 0.1303\n",
      "Epoch 34/50\n",
      "400/400 [==============================] - 0s 412us/step - loss: 0.1195 - val_loss: 0.1309\n",
      "Epoch 35/50\n",
      "400/400 [==============================] - 0s 433us/step - loss: 0.1194 - val_loss: 0.1305\n",
      "Epoch 36/50\n",
      "400/400 [==============================] - 0s 470us/step - loss: 0.1188 - val_loss: 0.1317\n",
      "Epoch 37/50\n",
      "400/400 [==============================] - 0s 436us/step - loss: 0.1189 - val_loss: 0.1320\n",
      "Epoch 38/50\n",
      "400/400 [==============================] - 0s 327us/step - loss: 0.1183 - val_loss: 0.1313\n",
      "Epoch 39/50\n",
      "400/400 [==============================] - 0s 330us/step - loss: 0.1179 - val_loss: 0.1332\n",
      "Epoch 40/50\n",
      "400/400 [==============================] - 0s 360us/step - loss: 0.1175 - val_loss: 0.1328\n",
      "Epoch 41/50\n",
      "400/400 [==============================] - 0s 325us/step - loss: 0.1173 - val_loss: 0.1331\n",
      "Epoch 42/50\n",
      "400/400 [==============================] - 0s 345us/step - loss: 0.1171 - val_loss: 0.1331\n",
      "Epoch 43/50\n",
      "400/400 [==============================] - 0s 342us/step - loss: 0.1169 - val_loss: 0.1330\n",
      "Epoch 44/50\n",
      "400/400 [==============================] - 0s 395us/step - loss: 0.1164 - val_loss: 0.1328\n",
      "Epoch 45/50\n",
      "400/400 [==============================] - 0s 462us/step - loss: 0.1161 - val_loss: 0.1331\n",
      "Epoch 46/50\n",
      "400/400 [==============================] - 0s 523us/step - loss: 0.1159 - val_loss: 0.1331\n",
      "Epoch 47/50\n",
      "400/400 [==============================] - 0s 505us/step - loss: 0.1155 - val_loss: 0.1344\n",
      "Epoch 48/50\n",
      "400/400 [==============================] - 0s 430us/step - loss: 0.1152 - val_loss: 0.1337\n",
      "Epoch 49/50\n",
      "400/400 [==============================] - 0s 495us/step - loss: 0.1151 - val_loss: 0.1345\n",
      "Epoch 50/50\n",
      "400/400 [==============================] - 0s 370us/step - loss: 0.1147 - val_loss: 0.1341\n"
     ]
    }
   ],
   "source": [
    "#Entrenamiento de la red neuronal\n",
    "history = model.fit(x_train, y_train, epochs=50, batch_size=10, validation_split = 0.1)\n"
   ]
  },
  {
   "cell_type": "code",
   "execution_count": 46,
   "metadata": {},
   "outputs": [
    {
     "data": {
      "image/png": "[encoded data removed]",
      "text/plain": [
       "<Figure size 432x288 with 1 Axes>"
      ]
     },
     "metadata": {
      "needs_background": "light"
     },
     "output_type": "display_data"
    }
   ],
   "source": [
    "#Visualización del progreso del modelo\n",
    "plt.plot(history.history['loss'])\n",
    "plt.plot(history.history['val_loss'])\n",
    "plt.title('Cost function')\n",
    "plt.ylabel('cost')\n",
    "plt.xlabel('epochs')\n",
    "plt.show()"
   ]
  },
  {
   "cell_type": "code",
   "execution_count": 50,
   "metadata": {},
   "outputs": [
    {
     "name": "stdout",
     "output_type": "stream",
     "text": [
      "112/112 [==============================] - 0s 80us/step\n",
      "Pérdida:   14.45755170924323 %\n",
      "Accuracy red neuronal:  85.54244829075677 %\n"
     ]
    }
   ],
   "source": [
    "#Pérdida y precisión de la red\n",
    "preds = model.evaluate(x = x_test, y = y_test)\n",
    "\n",
    "print (\"Pérdida:  \",preds*100,'%')\n",
    "print('Accuracy red neuronal: ',(1-preds)*100,'%')"
   ]
  },
  {
   "cell_type": "code",
   "execution_count": 48,
   "metadata": {},
   "outputs": [],
   "source": [
    "#Traducimos las predicciones a 0 y 1\n",
    "predictions_nn=model.predict(x_test)\n",
    "pred=predictions_nn.squeeze()\n",
    "pred_round=[]\n",
    "for p in pred:\n",
    "    if p<0.51:\n",
    "        pred_round.append(0)\n",
    "    else:\n",
    "        pred_round.append(1)\n"
   ]
  },
  {
   "cell_type": "code",
   "execution_count": 49,
   "metadata": {},
   "outputs": [
    {
     "name": "stdout",
     "output_type": "stream",
     "text": [
      "\n",
      "Matriz de confusión :\n",
      "[[ 8 18]\n",
      " [ 5 81]]\n",
      "\n",
      "Métricas de evaluación:\n",
      "              precision    recall  f1-score   support\n",
      "\n",
      "           0       0.62      0.31      0.41        26\n",
      "           1       0.82      0.94      0.88        86\n",
      "\n",
      "    accuracy                           0.79       112\n",
      "   macro avg       0.72      0.62      0.64       112\n",
      "weighted avg       0.77      0.79      0.77       112\n",
      "\n"
     ]
    }
   ],
   "source": [
    "#Métricas de evaluación para las predicciones hechas por la red\n",
    "print('\\nMatriz de confusión :')\n",
    "print(confusion_matrix(y_test, pred_round))\n",
    "      \n",
    "print('\\nMétricas de evaluación:')      \n",
    "print(classification_report(y_test, pred_round))"
   ]
  },
  {
   "cell_type": "code",
   "execution_count": null,
   "metadata": {},
   "outputs": [],
   "source": []
  }
 ],
 "metadata": {
  "kernelspec": {
   "display_name": "Python 3",
   "language": "python",
   "name": "python3"
  },
  "language_info": {
   "codemirror_mode": {
    "name": "ipython",
    "version": 3
   },
   "file_extension": ".py",
   "mimetype": "text/x-python",
   "name": "python",
   "nbconvert_exporter": "python",
   "pygments_lexer": "ipython3",
   "version": "3.7.6"
  }
 },
 "nbformat": 4,
 "nbformat_minor": 4
}
